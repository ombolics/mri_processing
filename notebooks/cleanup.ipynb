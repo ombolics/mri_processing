{
 "cells": [
  {
   "cell_type": "code",
   "execution_count": 27,
   "id": "1223d325-47cf-455e-8a1d-5b5a2a63c43a",
   "metadata": {},
   "outputs": [],
   "source": [
    "import os\n",
    "\n",
    "def delete_subfolders_with_few_items(folder_path, min_items=3):\n",
    "    # Iterate through each subdirectory\n",
    "    for root, dirs, files in os.walk(folder_path, topdown=False):\n",
    "        for dir_name in dirs:\n",
    "            # Get the path of the current subfolder\n",
    "            subfolder_path = os.path.join(root, dir_name)\n",
    "            # Check if the subfolder has less than min_items items in it\n",
    "            if len(os.listdir(subfolder_path)) < min_items:\n",
    "                # Delete the contents of the subfolder first\n",
    "                for item in os.listdir(subfolder_path):\n",
    "                    item_path = os.path.join(subfolder_path, item)\n",
    "                    if os.path.isfile(item_path):\n",
    "                        os.remove(item_path)\n",
    "                    elif os.path.isdir(item_path):\n",
    "                        os.rmdir(item_path)\n",
    "                # Delete the subfolder itself\n",
    "                os.rmdir(subfolder_path)\n",
    "                print(f\"Deleted: {subfolder_path}\")\n",
    "\n"
   ]
  },
  {
   "cell_type": "code",
   "execution_count": 25,
   "id": "262bc5f7-8215-43c7-9642-bbc762d05844",
   "metadata": {},
   "outputs": [
    {
     "name": "stdout",
     "output_type": "stream",
     "text": [
      "/home/p_adhoc/notebooks/workdir/mri_processing/notebooks\n"
     ]
    }
   ],
   "source": [
    "!pwd"
   ]
  },
  {
   "cell_type": "code",
   "execution_count": 28,
   "id": "6e9093a1-cf6e-45cc-b3b3-8d31716fc2c0",
   "metadata": {},
   "outputs": [
    {
     "name": "stdout",
     "output_type": "stream",
     "text": [
      "Deleted: /home/p_adhoc/notebooks/workdir/mri_processing/notebooks/runs/test_run_brain_tumor_2024_02_24_20_58_18_909809/1708804831.9507453\n",
      "Deleted: /home/p_adhoc/notebooks/workdir/mri_processing/notebooks/runs/test_run_brain_tumor_2024_02_24_20_50_02_395661/checkpoints\n",
      "Deleted: /home/p_adhoc/notebooks/workdir/mri_processing/notebooks/runs/test_run_brain_tumor_2024_02_24_20_50_02_395661/1708804325.250347\n",
      "Deleted: /home/p_adhoc/notebooks/workdir/mri_processing/notebooks/runs/test_run_brain_tumor_2024_02_24_20_40_46_588581/checkpoints\n",
      "Deleted: /home/p_adhoc/notebooks/workdir/mri_processing/notebooks/runs/alzheimer_2024_03_13_11_59_44_056964/1710327678.2559972\n",
      "Deleted: /home/p_adhoc/notebooks/workdir/mri_processing/notebooks/runs/brain_tumor_cnn_only_2024_02_24_23_27_49_854693/checkpoints\n",
      "Deleted: /home/p_adhoc/notebooks/workdir/mri_processing/notebooks/runs/test_run_brain_tumor_2024_02_24_21_45_32_306902/1708809662.22936\n",
      "Deleted: /home/p_adhoc/notebooks/workdir/mri_processing/notebooks/runs/test_run_brain_tumor_2024_02_24_21_06_23_426089/1708806555.237029\n",
      "Deleted: /home/p_adhoc/notebooks/workdir/mri_processing/notebooks/runs/brain_tumor_cnn_only_2024_02_24_23_37_09_479780/checkpoints\n",
      "Deleted: /home/p_adhoc/notebooks/workdir/mri_processing/notebooks/runs/brain_tumor_cnn_only_2024_02_24_23_37_09_479780/1708814653.1950443\n",
      "Deleted: /home/p_adhoc/notebooks/workdir/mri_processing/notebooks/runs/brain_tumor_cnn_only_2024_02_25_00_29_47_937214/1708817633.6197333\n",
      "Deleted: /home/p_adhoc/notebooks/workdir/mri_processing/notebooks/runs/brain_tumor_cnn_only_2024_02_25_00_29_47_937214/checkpoints\n",
      "Deleted: /home/p_adhoc/notebooks/workdir/mri_processing/notebooks/runs/test_run_brain_tumor_full_2024_02_24_22_56_11_638306/1708812747.5442274\n",
      "Deleted: /home/p_adhoc/notebooks/workdir/mri_processing/notebooks/runs/test_run_brain_tumor_2024_02_24_20_47_26_623576/checkpoints\n",
      "Deleted: /home/p_adhoc/notebooks/workdir/mri_processing/notebooks/runs/test_run_brain_tumor_2024_02_24_21_01_39_342632/1708805028.5809202\n",
      "Deleted: /home/p_adhoc/notebooks/workdir/mri_processing/notebooks/runs/brain_tumor_cnn_only_2024_02_24_23_46_26_709784/checkpoints\n",
      "Deleted: /home/p_adhoc/notebooks/workdir/mri_processing/notebooks/runs/alzheimer_2024_03_13_12_03_36_817170/1710328019.1405265\n",
      "Deleted: /home/p_adhoc/notebooks/workdir/mri_processing/notebooks/runs/alzheimer_2024_03_13_11_52_19_363162/1710327378.9518366\n",
      "Deleted: /home/p_adhoc/notebooks/workdir/mri_processing/notebooks/runs/alzheimer_2024_03_13_11_27_14_318781/1710325792.3961985\n",
      "Deleted: /home/p_adhoc/notebooks/workdir/mri_processing/notebooks/runs/alzheimer_2024_03_13_11_36_06_199707\n",
      "Deleted: /home/p_adhoc/notebooks/workdir/mri_processing/notebooks/runs/test_run_brain_tumor_2024_02_24_20_40_46_588581\n",
      "Deleted: /home/p_adhoc/notebooks/workdir/mri_processing/notebooks/runs/alzheimer_2024_02_25_00_29_29_551737\n",
      "Deleted: /home/p_adhoc/notebooks/workdir/mri_processing/notebooks/runs/alzheimer_2024_03_13_11_48_21_233422\n",
      "Deleted: /home/p_adhoc/notebooks/workdir/mri_processing/notebooks/runs/alzheimer_2024_03_13_11_51_15_383752\n",
      "Deleted: /home/p_adhoc/notebooks/workdir/mri_processing/notebooks/runs/brain_tumor_cnn_only_2024_02_24_23_27_49_854693\n",
      "Deleted: /home/p_adhoc/notebooks/workdir/mri_processing/notebooks/runs/brain_tumor_cnn_only_2024_02_24_23_35_04_726347\n",
      "Deleted: /home/p_adhoc/notebooks/workdir/mri_processing/notebooks/runs/test_run_brain_tumor_2024_02_24_22_55_25_054666\n",
      "Deleted: /home/p_adhoc/notebooks/workdir/mri_processing/notebooks/runs/alzheimer_2024_03_13_11_46_08_736236\n",
      "Deleted: /home/p_adhoc/notebooks/workdir/mri_processing/notebooks/runs/test_run_brain_tumor_2024_02_24_22_53_56_445465\n",
      "Deleted: /home/p_adhoc/notebooks/workdir/mri_processing/notebooks/runs/alzheimer_2024_02_25_00_27_18_694562\n",
      "Deleted: /home/p_adhoc/notebooks/workdir/mri_processing/notebooks/runs/alzheimer_2024_03_13_11_09_09_123667\n",
      "Deleted: /home/p_adhoc/notebooks/workdir/mri_processing/notebooks/runs/alzheimer_2024_03_13_11_11_17_594555\n",
      "Deleted: /home/p_adhoc/notebooks/workdir/mri_processing/notebooks/runs/test_run_brain_tumor_2024_02_24_20_32_26_709701\n",
      "Deleted: /home/p_adhoc/notebooks/workdir/mri_processing/notebooks/runs/test_run_brain_tumor_2024_02_24_20_47_26_623576\n",
      "Deleted: /home/p_adhoc/notebooks/workdir/mri_processing/notebooks/runs/brain_tumor_cnn_only_2024_03_13_11_20_52_136309\n",
      "Deleted: /home/p_adhoc/notebooks/workdir/mri_processing/notebooks/runs/test_run_brain_tumor_2024_02_24_22_55_40_633426\n",
      "Deleted: /home/p_adhoc/notebooks/workdir/mri_processing/notebooks/runs/alzheimer_2024_03_13_11_44_24_964952\n",
      "Deleted: /home/p_adhoc/notebooks/workdir/mri_processing/notebooks/runs/brain_tumor_cnn_only_2024_02_24_23_46_26_709784\n",
      "Deleted: /home/p_adhoc/notebooks/workdir/mri_processing/notebooks/runs/alzheimer_2024_03_13_10_42_42_645925\n"
     ]
    }
   ],
   "source": [
    "# Example usage:\n",
    "folder_path = \"/home/p_adhoc/notebooks/workdir/mri_processing/notebooks/runs\"\n",
    "delete_subfolders_with_few_items(folder_path)"
   ]
  },
  {
   "cell_type": "code",
   "execution_count": null,
   "id": "6f10cc2b-be61-4f20-911d-abc8089facd8",
   "metadata": {},
   "outputs": [],
   "source": []
  }
 ],
 "metadata": {
  "kernelspec": {
   "display_name": "Python 3 (ipykernel)",
   "language": "python",
   "name": "python3"
  },
  "language_info": {
   "codemirror_mode": {
    "name": "ipython",
    "version": 3
   },
   "file_extension": ".py",
   "mimetype": "text/x-python",
   "name": "python",
   "nbconvert_exporter": "python",
   "pygments_lexer": "ipython3",
   "version": "3.11.6"
  }
 },
 "nbformat": 4,
 "nbformat_minor": 5
}
